{
 "cells": [
  {
   "cell_type": "markdown",
   "metadata": {},
   "source": [
    "# Model Analysis of InceptionV3 Training on CPU"
   ]
  },
  {
   "cell_type": "markdown",
   "metadata": {},
   "source": [
    "Copyright (c) 2019 Intel Corporation.\n",
    "\n",
    "Permission is hereby granted, free of charge, to any person obtaining\n",
    "a copy of this software and associated documentation files (the\n",
    "\"Software\"), to deal in the Software without restriction, including\n",
    "without limitation the rights to use, copy, modify, merge, publish,\n",
    "distribute, sublicense, and/or sell copies of the Software, and to\n",
    "permit persons to whom the Software is furnished to do so, subject to\n",
    "the following conditions:\n",
    "\n",
    "The above copyright notice and this permission notice shall be\n",
    "included in all copies or substantial portions of the Software.\n",
    "\n",
    "THE SOFTWARE IS PROVIDED \"AS IS\", WITHOUT WARRANTY OF ANY KIND,\n",
    "EXPRESS OR IMPLIED, INCLUDING BUT NOT LIMITED TO THE WARRANTIES OF\n",
    "MERCHANTABILITY, FITNESS FOR A PARTICULAR PURPOSE AND\n",
    "NONINFRINGEMENT. IN NO EVENT SHALL THE AUTHORS OR COPYRIGHT HOLDERS BE\n",
    "LIABLE FOR ANY CLAIM, DAMAGES OR OTHER LIABILITY, WHETHER IN AN ACTION\n",
    "OF CONTRACT, TORT OR OTHERWISE, ARISING FROM, OUT OF OR IN CONNECTION\n",
    "WITH THE SOFTWARE OR THE USE OR OTHER DEALINGS IN THE SOFTWARE.\n"
   ]
  },
  {
   "cell_type": "markdown",
   "metadata": {},
   "source": [
    "# Objective \n",
    "Understand how we can interpret the results of our training by analyzing out model with different metrics and graphs.\n",
    "\n",
    "# Activities \n",
    "**In this section of the training you will**\n",
    "- Load your trained model\n",
    "- Load your test dataset\n",
    "- Gather prediction values on your test set\n",
    "- Understand a confusion matrix\n",
    "- Understand a classification report\n",
    "- Understand precision, f1, recall, roc"
   ]
  },
  {
   "cell_type": "markdown",
   "metadata": {},
   "source": [
    "We're going to start by loading in our model from training that contains training on all of our layers.  Since we saved in the hdf5 format it means we'll see the entire structure of the model  and won't have to reinstaniate it before using it.\n",
    "\n",
    "Click the cell below and then click **Run**."
   ]
  },
  {
   "cell_type": "code",
   "execution_count": null,
   "metadata": {
    "collapsed": true
   },
   "outputs": [],
   "source": [
    "from keras.models import load_model\n",
    "model = load_model('top_layers.iv3.hdf5')"
   ]
  },
  {
   "cell_type": "markdown",
   "metadata": {},
   "source": [
    "As in the training we can utilize a data generator to pass our test data set easily by just pointing at a directory.  We'll pass in the test data set directory, set the target size to 299x299 and add a batch size of 32.  One important thing to note is that need for setting shuffle to False, since when we analysis our data at the end we prefer to have it in order since we can easily pass it into our evaluation and graphing functions.\n",
    "\n",
    "Click the cell below and then click **Run**."
   ]
  },
  {
   "cell_type": "code",
   "execution_count": null,
   "metadata": {},
   "outputs": [],
   "source": [
    "from keras.preprocessing.image import ImageDataGenerator\n",
    "from keras.applications.inception_v3 import preprocess_input\n",
    "#Test DataSet Generator with Augmentation\n",
    "test_generator = ImageDataGenerator(preprocessing_function=preprocess_input)\n",
    "test_flow = test_generator.flow_from_directory(\n",
    "    '../Dataset/test',\n",
    "    shuffle=False,\n",
    "    target_size=(299, 299),\n",
    "    batch_size = 32\n",
    ")"
   ]
  },
  {
   "cell_type": "markdown",
   "metadata": {},
   "source": [
    "Here we use the **predict_generator** and pass in our test data set generator.  This will generate predictions from the input samples of the data generator which we will pass in to our analysis functions.  We also want to get the correct classes from the generator so we'll store them in the variable true_classes for easy access to them later. \n",
    "\n",
    "Click the cell below and then click **Run**."
   ]
  },
  {
   "cell_type": "code",
   "execution_count": null,
   "metadata": {
    "collapsed": true
   },
   "outputs": [],
   "source": [
    "import math\n",
    "import numpy as np\n",
    "predictions = model.predict_generator(\n",
    "    test_flow,\n",
    "    verbose=1,\n",
    "    steps=math.ceil(test_flow.samples/test_flow.batch_size))\n",
    "predicted_classes = np.argmax(predictions, axis=1) \n",
    "\n",
    "true_classes = test_flow.classes\n",
    "class_labels = list(test_flow.class_indices.keys())  "
   ]
  },
  {
   "cell_type": "markdown",
   "metadata": {},
   "source": [
    "A common graph to plot for analysis is a confusion matrix.  It will play out the true label vs the predicted label on a graph and color code them accordingly.  The ideal confusion matrix will have a diaganol line from the top left to the bottom right and no other color.  This means that each predicted value matched the true value.  What you'll normally see is that each class might lean toward one or two other classes that might look similar to the true class"
   ]
  },
  {
   "cell_type": "markdown",
   "metadata": {},
   "source": [
    "### Activity\n",
    "In the cell below, update the **first variable** to **true_classes** and the **second variables** to **predicted_classes**, and then click **Run**."
   ]
  },
  {
   "cell_type": "code",
   "execution_count": null,
   "metadata": {
    "collapsed": true
   },
   "outputs": [],
   "source": [
    "import matplotlib.pyplot as plt\n",
    "%matplotlib inline  \n",
    "import scikitplot as skplt\n",
    "\n",
    "[print(k, \":\", v) for k,v in enumerate(class_labels)]\n",
    "true_map_classes = [class_labels[x] for x in true_classes]\n",
    "predicted_map_classes = [class_labels[x] for x in predicted_classes]\n",
    "\n",
    "skplt.metrics.plot_confusion_matrix(\n",
    "    true_map_classes, \n",
    "    predicted_map_classes,\n",
    "    labels=class_labels,\n",
    "    x_tick_rotation=90,\n",
    "    figsize=(12,12))"
   ]
  },
  {
   "cell_type": "markdown",
   "metadata": {},
   "source": [
    "Next, we'll look at text based version of different main classification metrics.\n",
    "\n",
    "**Precision**: The precision is the ratio tp / (tp + fp) where tp is the number of true positives and fp the number of false positives. The precision is intuitively the ability of the classifier not to label as positive a sample that is negative.\n",
    "\n",
    "The best value is 1 and the worst value is 0.\n",
    "\n",
    "**Recall**: The recall is the ratio tp / (tp + fn) where tp is the number of true positives and fn the number of false negatives. The recall is intuitively the ability of the classifier to find all the positive samples.\n",
    "\n",
    "The best value is 1 and the worst value is 0.\n",
    "\n",
    "**F1-Score**: Compute the F1 score, also known as balanced F-score or F-measure\n",
    "\n",
    "The F1 score can be interpreted as a weighted average of the precision and recall, where an F1 score reaches its best value at 1 and worst score at 0. The relative contribution of precision and recall to the F1 score are equal. The formula for the F1 score is:\n",
    "\n",
    "F1 = 2 * (precision * recall) / (precision + recall)\n",
    "In the multi-class and multi-label case, this is the average of the F1 score of each class with weighting depending on the average parameter.\n",
    "\n",
    "**Support**: The total number of classes being used for the evaluation\n",
    "\n",
    "\n",
    "Click the cell below and then click **Run**."
   ]
  },
  {
   "cell_type": "code",
   "execution_count": null,
   "metadata": {
    "collapsed": true
   },
   "outputs": [],
   "source": [
    "from sklearn.metrics import classification_report\n",
    "report = classification_report(\n",
    "    true_classes,\n",
    "    predicted_classes,\n",
    "    target_names=class_labels)\n",
    "print(report)"
   ]
  },
  {
   "cell_type": "markdown",
   "metadata": {},
   "source": [
    "Click the cell below and then click **Run**."
   ]
  },
  {
   "cell_type": "code",
   "execution_count": null,
   "metadata": {
    "collapsed": true
   },
   "outputs": [],
   "source": [
    "skplt.metrics.plot_precision_recall(\n",
    "    true_classes,\n",
    "    predictions,\n",
    "    figsize=(12,12))"
   ]
  },
  {
   "cell_type": "markdown",
   "metadata": {},
   "source": [
    "The function roc_curve computes the receiver operating characteristic curve, or ROC curve. Quoting Wikipedia :\n",
    "\n",
    "“A receiver operating characteristic (ROC), or simply ROC curve, is a graphical plot which illustrates the performance of a binary classifier system as its discrimination threshold is varied. It is created by plotting the fraction of true positives out of the positives (TPR = true positive rate) vs. the fraction of false positives out of the negatives (FPR = false positive rate), at various threshold settings. TPR is also known as sensitivity, and FPR is one minus the specificity or true negative rate.”\n",
    "\n",
    "Click the cell below and then click **Run**."
   ]
  },
  {
   "cell_type": "code",
   "execution_count": null,
   "metadata": {
    "collapsed": true
   },
   "outputs": [],
   "source": [
    "skplt.metrics.plot_roc(\n",
    "    true_classes,\n",
    "    predictions,\n",
    "    figsize=(12,12))"
   ]
  },
  {
   "cell_type": "code",
   "execution_count": 9,
   "metadata": {},
   "outputs": [
    {
     "data": {
      "text/html": [
       "<h3>Course Completion - Quiz</h3>\n",
       "<ul>\n",
       "<li>You have the option to receive an Intel® AI Course Completion Certificate upon completion of the end of the course quiz</li>\n",
       "<li>Before taking the quiz, you may have to disable AdBlockers. (Ghostery, uBlock, AdGuard, etc.) </li>\n",
       "\n",
       "<li>If quiz is not rendering in below cell, use direct link here:  <a target=\"_blank\" href=\"https://intel.az1.qualtrics.com/jfe/form/SV_9EIVi2JXNF1ViiV\">Take the quiz</a> </li>\n",
       "</ul>\n",
       "<br>\n",
       "<iframe style=\"border: 1px dashed #0071c5;\" src=\"https://intel.az1.qualtrics.com/jfe/form/SV_9EIVi2JXNF1ViiV\" title=\"DC2E Training Cert Quiz\" width=\"950\" height=\"800\"></iframe>"
      ],
      "text/plain": [
       "<IPython.core.display.HTML object>"
      ]
     },
     "metadata": {},
     "output_type": "display_data"
    }
   ],
   "source": [
    "%%html\n",
    "<h3>Course Completion - Quiz</h3>\n",
    "<ul>\n",
    "<li>You have the option to receive an Intel® AI Course Completion Certificate upon completion of the end of the course quiz</li>\n",
    "<li>Before taking the quiz, you may have to disable AdBlockers. (Ghostery, uBlock, AdGuard, etc.) </li>\n",
    "\n",
    "<li>If quiz is not rendering in below cell, use direct link here:  <a target=\"_blank\" href=\"https://intel.az1.qualtrics.com/jfe/form/SV_9EIVi2JXNF1ViiV\">Take the quiz</a> </li>\n",
    "</ul>\n",
    "<br>\n",
    "<iframe style=\"border: 1px dashed #0071c5;\" src=\"https://intel.az1.qualtrics.com/jfe/form/SV_9EIVi2JXNF1ViiV\" title=\"DC2E Training Cert Quiz\" width=\"950\" height=\"800\"></iframe>"
   ]
  },
  {
   "cell_type": "markdown",
   "metadata": {},
   "source": [
    "## Summary\n",
    "**In this section of the training you learned**\n",
    "\n",
    "- Load your trained model\n",
    "- Load your test dataset\n",
    "- Gather prediction values on your test set\n",
    "- Understand a confusion matrix\n",
    "- Understand a classification report\n",
    "- Understand precision, f1, recall, roc"
   ]
  }
 ],
 "metadata": {
  "kernelspec": {
   "display_name": "py_3.6_tf",
   "language": "python",
   "name": "python_3_6"
  },
  "language_info": {
   "codemirror_mode": {
    "name": "ipython",
    "version": 3
   },
   "file_extension": ".py",
   "mimetype": "text/x-python",
   "name": "python",
   "nbconvert_exporter": "python",
   "pygments_lexer": "ipython3",
   "version": "3.6.3"
  }
 },
 "nbformat": 4,
 "nbformat_minor": 2
}
