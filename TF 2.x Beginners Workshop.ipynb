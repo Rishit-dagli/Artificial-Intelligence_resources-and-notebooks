{
  "nbformat": 4,
  "nbformat_minor": 0,
  "metadata": {
    "colab": {
      "name": "TF 2.x Beginners Workshop.ipynb",
      "provenance": [],
      "collapsed_sections": [],
      "include_colab_link": true
    },
    "kernelspec": {
      "name": "python3",
      "display_name": "Python 3"
    },
    "accelerator": "GPU"
  },
  "cells": [
    {
      "cell_type": "markdown",
      "metadata": {
        "id": "view-in-github",
        "colab_type": "text"
      },
      "source": [
        "<a href=\"https://colab.research.google.com/github/Rishit-dagli/Artificial-Intelligence_resources-and-notebooks/blob/master/TF%202.x%20Beginners%20Workshop.ipynb\" target=\"_parent\"><img src=\"https://colab.research.google.com/assets/colab-badge.svg\" alt=\"Open In Colab\"/></a>"
      ]
    },
    {
      "cell_type": "markdown",
      "metadata": {
        "id": "kyBauBobhQBS",
        "colab_type": "text"
      },
      "source": [
        "# Cats vs dogs"
      ]
    },
    {
      "cell_type": "code",
      "metadata": {
        "id": "UK7_Fflgv8YC",
        "colab_type": "code",
        "outputId": "35bc508d-c84f-4d02-d7c4-00c5632db872",
        "colab": {
          "base_uri": "https://localhost:8080/",
          "height": 204
        }
      },
      "source": [
        "!wget --no-check-certificate \\\n",
        "    https://storage.googleapis.com/mledu-datasets/cats_and_dogs_filtered.zip \\\n",
        "    -O /tmp/cats_and_dogs_filtered.zip"
      ],
      "execution_count": 0,
      "outputs": [
        {
          "output_type": "stream",
          "text": [
            "--2020-04-21 02:16:32--  https://storage.googleapis.com/mledu-datasets/cats_and_dogs_filtered.zip\n",
            "Resolving storage.googleapis.com (storage.googleapis.com)... 172.217.14.112, 2607:f8b0:4007:802::2010\n",
            "Connecting to storage.googleapis.com (storage.googleapis.com)|172.217.14.112|:443... connected.\n",
            "HTTP request sent, awaiting response... 200 OK\n",
            "Length: 68606236 (65M) [application/zip]\n",
            "Saving to: ‘/tmp/cats_and_dogs_filtered.zip’\n",
            "\n",
            "\r          /tmp/cats   0%[                    ]       0  --.-KB/s               \r         /tmp/cats_  85%[================>   ]  56.01M   237MB/s               \r/tmp/cats_and_dogs_ 100%[===================>]  65.43M   251MB/s    in 0.3s    \n",
            "\n",
            "2020-04-21 02:16:32 (251 MB/s) - ‘/tmp/cats_and_dogs_filtered.zip’ saved [68606236/68606236]\n",
            "\n"
          ],
          "name": "stdout"
        }
      ]
    },
    {
      "cell_type": "code",
      "metadata": {
        "id": "zMDMGhQYhb1G",
        "colab_type": "code",
        "colab": {}
      },
      "source": [
        "import os\n",
        "import zipfile\n",
        "import tensorflow as tf\n",
        "from tensorflow.keras.optimizers import RMSprop\n",
        "from tensorflow.keras.preprocessing.image import ImageDataGenerator\n",
        "\n",
        "IMG_HEIGHT = IMG_WIDTH = 150\n",
        "\n",
        "local_zip = '/tmp/cats_and_dogs_filtered.zip'\n",
        "zip_ref = zipfile.ZipFile(local_zip, 'r')\n",
        "zip_ref.extractall('/tmp')\n",
        "zip_ref.close()"
      ],
      "execution_count": 0,
      "outputs": []
    },
    {
      "cell_type": "code",
      "metadata": {
        "id": "uHhmDfGMhjK9",
        "colab_type": "code",
        "colab": {}
      },
      "source": [
        "base_dir = '/tmp/cats_and_dogs_filtered'\n",
        "train_dir = os.path.join(base_dir, 'train')\n",
        "validation_dir = os.path.join(base_dir, 'validation')\n",
        "\n",
        "# Directory with our training cat pictures\n",
        "train_cats_dir = os.path.join(train_dir, 'cats')\n",
        "\n",
        "# Directory with our training dog pictures\n",
        "train_dogs_dir = os.path.join(train_dir, 'dogs')\n",
        "\n",
        "# Directory with our validation cat pictures\n",
        "validation_cats_dir = os.path.join(validation_dir, 'cats')\n",
        "\n",
        "# Directory with our validation dog pictures\n",
        "validation_dogs_dir = os.path.join(validation_dir, 'dogs')"
      ],
      "execution_count": 0,
      "outputs": []
    },
    {
      "cell_type": "code",
      "metadata": {
        "id": "zXNF9Jqphn0p",
        "colab_type": "code",
        "colab": {}
      },
      "source": [
        "model = tf.keras.models.Sequential([\n",
        "    tf.keras.layers.Conv2D(32, (3,3), padding='same', activation='relu',input_shape=(IMG_HEIGHT, IMG_WIDTH ,3)),\n",
        "    tf.keras.layers.MaxPooling2D(2,2),\n",
        "\t  tf.keras.layers.Dropout(0.2),\n",
        "    tf.keras.layers.Conv2D(64, (3,3), padding='same', activation='relu'),\n",
        "    tf.keras.layers.MaxPooling2D(2,2),\n",
        "    tf.keras.layers.Conv2D(128, (3,3), padding='same', activation='relu'),\n",
        "    tf.keras.layers.MaxPooling2D(2,2),\n",
        "    tf.keras.layers.Conv2D(128, (3,3), padding='same', activation='relu'),\n",
        "    tf.keras.layers.MaxPooling2D(2,2),\n",
        "\t  tf.keras.layers.Dropout(0.2),\n",
        "    tf.keras.layers.Flatten(),\n",
        "    tf.keras.layers.Dense(512, activation='relu'),\n",
        "    tf.keras.layers.Dense(1, activation='sigmoid')\n",
        "])\n",
        "\n",
        "model.compile(loss='binary_crossentropy',\n",
        "              optimizer=RMSprop(lr=1e-4),\n",
        "              metrics=['acc'])"
      ],
      "execution_count": 0,
      "outputs": []
    },
    {
      "cell_type": "code",
      "metadata": {
        "id": "SmXs9_Udhs1I",
        "colab_type": "code",
        "colab": {}
      },
      "source": [
        "train_datagen = ImageDataGenerator(\n",
        "      rescale=1./255,\n",
        "      rotation_range=40,\n",
        "      width_shift_range=0.2,\n",
        "      height_shift_range=0.2,\n",
        "      shear_range=0.2,\n",
        "      zoom_range=0.2,\n",
        "      horizontal_flip=True,\n",
        "      fill_mode='nearest')\n",
        "\n",
        "test_datagen = ImageDataGenerator(rescale=1./255)"
      ],
      "execution_count": 0,
      "outputs": []
    },
    {
      "cell_type": "code",
      "metadata": {
        "id": "nZRKnbW8hweP",
        "colab_type": "code",
        "outputId": "fe2d61af-e9a1-4a6b-d8f6-0ae719dd9872",
        "colab": {
          "base_uri": "https://localhost:8080/",
          "height": 51
        }
      },
      "source": [
        "# Flow training images in batches of 20 using train_datagen generator\n",
        "train_generator = train_datagen.flow_from_directory(\n",
        "        train_dir,  # This is the source directory for training images\n",
        "        target_size=(150, 150),  # All images will be resized to 150x150\n",
        "        batch_size=20,\n",
        "        # Since we use binary_crossentropy loss, we need binary labels\n",
        "        class_mode='binary')\n",
        "\n",
        "# Flow validation images in batches of 20 using test_datagen generator\n",
        "validation_generator = test_datagen.flow_from_directory(\n",
        "        validation_dir,\n",
        "        target_size=(150, 150),\n",
        "        batch_size=20,\n",
        "        class_mode='binary')"
      ],
      "execution_count": 0,
      "outputs": [
        {
          "output_type": "stream",
          "text": [
            "Found 2000 images belonging to 2 classes.\n",
            "Found 1000 images belonging to 2 classes.\n"
          ],
          "name": "stdout"
        }
      ]
    },
    {
      "cell_type": "code",
      "metadata": {
        "id": "ciVdYE1ZhzEL",
        "colab_type": "code",
        "outputId": "ad8498bf-28f2-4831-94d8-70f7a306032b",
        "colab": {
          "base_uri": "https://localhost:8080/",
          "height": 1000
        }
      },
      "source": [
        "history = model.fit_generator(\n",
        "      train_generator,\n",
        "      steps_per_epoch=100,  # 2000 images = batch_size * steps\n",
        "      epochs=100,\n",
        "      validation_data=validation_generator,\n",
        "      validation_steps=50,  # 1000 images = batch_size * steps\n",
        "      verbose=1)"
      ],
      "execution_count": 0,
      "outputs": [
        {
          "output_type": "stream",
          "text": [
            "WARNING:tensorflow:From <ipython-input-8-c54ecb4fa6ba>:7: Model.fit_generator (from tensorflow.python.keras.engine.training) is deprecated and will be removed in a future version.\n",
            "Instructions for updating:\n",
            "Please use Model.fit, which supports generators.\n",
            "Epoch 1/100\n",
            "100/100 [==============================] - 17s 169ms/step - loss: 0.6994 - acc: 0.5130 - val_loss: 0.6896 - val_acc: 0.5750\n",
            "Epoch 2/100\n",
            "100/100 [==============================] - 17s 169ms/step - loss: 0.6903 - acc: 0.5365 - val_loss: 0.6877 - val_acc: 0.5270\n",
            "Epoch 3/100\n",
            "100/100 [==============================] - 17s 168ms/step - loss: 0.6861 - acc: 0.5495 - val_loss: 0.6784 - val_acc: 0.5630\n",
            "Epoch 4/100\n",
            "100/100 [==============================] - 17s 168ms/step - loss: 0.6715 - acc: 0.5755 - val_loss: 0.6537 - val_acc: 0.6360\n",
            "Epoch 5/100\n",
            "100/100 [==============================] - 17s 171ms/step - loss: 0.6555 - acc: 0.5970 - val_loss: 0.6387 - val_acc: 0.6800\n",
            "Epoch 6/100\n",
            "100/100 [==============================] - 17s 169ms/step - loss: 0.6535 - acc: 0.6190 - val_loss: 0.6243 - val_acc: 0.6560\n",
            "Epoch 7/100\n",
            "100/100 [==============================] - 17s 169ms/step - loss: 0.6377 - acc: 0.6255 - val_loss: 0.6240 - val_acc: 0.6560\n",
            "Epoch 8/100\n",
            "100/100 [==============================] - 17s 169ms/step - loss: 0.6272 - acc: 0.6440 - val_loss: 0.6286 - val_acc: 0.6260\n",
            "Epoch 9/100\n",
            "100/100 [==============================] - 17s 170ms/step - loss: 0.6163 - acc: 0.6570 - val_loss: 0.6744 - val_acc: 0.5820\n",
            "Epoch 10/100\n",
            "100/100 [==============================] - 17s 170ms/step - loss: 0.6146 - acc: 0.6600 - val_loss: 0.6019 - val_acc: 0.6600\n",
            "Epoch 11/100\n",
            "100/100 [==============================] - 17s 169ms/step - loss: 0.6008 - acc: 0.6700 - val_loss: 0.5891 - val_acc: 0.6840\n",
            "Epoch 12/100\n",
            "100/100 [==============================] - 17s 170ms/step - loss: 0.5960 - acc: 0.6735 - val_loss: 0.5868 - val_acc: 0.6860\n",
            "Epoch 13/100\n",
            "100/100 [==============================] - 17s 169ms/step - loss: 0.5931 - acc: 0.6695 - val_loss: 0.5720 - val_acc: 0.6910\n",
            "Epoch 14/100\n",
            "100/100 [==============================] - 17s 170ms/step - loss: 0.5877 - acc: 0.6845 - val_loss: 0.5870 - val_acc: 0.6640\n",
            "Epoch 15/100\n",
            "100/100 [==============================] - 17s 170ms/step - loss: 0.5781 - acc: 0.7015 - val_loss: 0.5619 - val_acc: 0.6990\n",
            "Epoch 16/100\n",
            "100/100 [==============================] - 17s 169ms/step - loss: 0.5824 - acc: 0.6905 - val_loss: 0.5877 - val_acc: 0.6850\n",
            "Epoch 17/100\n",
            "100/100 [==============================] - 17s 170ms/step - loss: 0.5593 - acc: 0.7155 - val_loss: 0.6245 - val_acc: 0.6550\n",
            "Epoch 18/100\n",
            "100/100 [==============================] - 17s 172ms/step - loss: 0.5629 - acc: 0.7020 - val_loss: 0.5820 - val_acc: 0.6790\n",
            "Epoch 19/100\n",
            "100/100 [==============================] - 17s 171ms/step - loss: 0.5658 - acc: 0.7215 - val_loss: 0.6115 - val_acc: 0.6840\n",
            "Epoch 20/100\n",
            "100/100 [==============================] - 17s 170ms/step - loss: 0.5703 - acc: 0.7090 - val_loss: 0.5548 - val_acc: 0.6880\n",
            "Epoch 21/100\n",
            "100/100 [==============================] - 17s 170ms/step - loss: 0.5707 - acc: 0.7200 - val_loss: 0.5489 - val_acc: 0.7000\n",
            "Epoch 22/100\n",
            "100/100 [==============================] - 17s 169ms/step - loss: 0.5534 - acc: 0.7185 - val_loss: 0.5629 - val_acc: 0.7120\n",
            "Epoch 23/100\n",
            "100/100 [==============================] - 17s 169ms/step - loss: 0.5473 - acc: 0.7085 - val_loss: 0.5512 - val_acc: 0.6790\n",
            "Epoch 24/100\n",
            "100/100 [==============================] - 17s 170ms/step - loss: 0.5473 - acc: 0.7215 - val_loss: 0.5675 - val_acc: 0.7040\n",
            "Epoch 25/100\n",
            "100/100 [==============================] - 17s 170ms/step - loss: 0.5466 - acc: 0.7245 - val_loss: 0.5494 - val_acc: 0.7100\n",
            "Epoch 26/100\n",
            "100/100 [==============================] - 17s 171ms/step - loss: 0.5446 - acc: 0.7225 - val_loss: 0.6294 - val_acc: 0.6800\n",
            "Epoch 27/100\n",
            "100/100 [==============================] - 17s 171ms/step - loss: 0.5268 - acc: 0.7335 - val_loss: 0.7013 - val_acc: 0.6430\n",
            "Epoch 28/100\n",
            "100/100 [==============================] - 17s 170ms/step - loss: 0.5258 - acc: 0.7400 - val_loss: 0.6229 - val_acc: 0.6880\n",
            "Epoch 29/100\n",
            "100/100 [==============================] - 17s 172ms/step - loss: 0.5324 - acc: 0.7345 - val_loss: 0.5031 - val_acc: 0.7500\n",
            "Epoch 30/100\n",
            "100/100 [==============================] - 17s 171ms/step - loss: 0.5347 - acc: 0.7305 - val_loss: 0.5175 - val_acc: 0.7360\n",
            "Epoch 31/100\n",
            "100/100 [==============================] - 17s 170ms/step - loss: 0.5197 - acc: 0.7475 - val_loss: 0.5212 - val_acc: 0.7420\n",
            "Epoch 32/100\n",
            "100/100 [==============================] - 17s 171ms/step - loss: 0.5146 - acc: 0.7435 - val_loss: 0.5150 - val_acc: 0.7440\n",
            "Epoch 33/100\n",
            "100/100 [==============================] - 17s 170ms/step - loss: 0.5125 - acc: 0.7560 - val_loss: 0.5427 - val_acc: 0.7510\n",
            "Epoch 34/100\n",
            "100/100 [==============================] - 17s 170ms/step - loss: 0.5131 - acc: 0.7445 - val_loss: 0.5719 - val_acc: 0.7170\n",
            "Epoch 35/100\n",
            "100/100 [==============================] - 17s 169ms/step - loss: 0.5164 - acc: 0.7460 - val_loss: 0.6162 - val_acc: 0.7020\n",
            "Epoch 36/100\n",
            "100/100 [==============================] - 17s 171ms/step - loss: 0.5018 - acc: 0.7615 - val_loss: 0.5813 - val_acc: 0.7200\n",
            "Epoch 37/100\n",
            "100/100 [==============================] - 17s 171ms/step - loss: 0.5102 - acc: 0.7400 - val_loss: 0.4988 - val_acc: 0.7470\n",
            "Epoch 38/100\n",
            "100/100 [==============================] - 17s 171ms/step - loss: 0.4954 - acc: 0.7570 - val_loss: 0.5350 - val_acc: 0.7530\n",
            "Epoch 39/100\n",
            "100/100 [==============================] - 17s 170ms/step - loss: 0.4975 - acc: 0.7600 - val_loss: 0.5100 - val_acc: 0.7660\n",
            "Epoch 40/100\n",
            "100/100 [==============================] - 17s 170ms/step - loss: 0.4919 - acc: 0.7720 - val_loss: 0.5250 - val_acc: 0.7510\n",
            "Epoch 41/100\n",
            "100/100 [==============================] - 17s 170ms/step - loss: 0.4933 - acc: 0.7535 - val_loss: 0.5308 - val_acc: 0.7280\n",
            "Epoch 42/100\n",
            "100/100 [==============================] - 17s 172ms/step - loss: 0.4951 - acc: 0.7640 - val_loss: 0.5409 - val_acc: 0.7290\n",
            "Epoch 43/100\n",
            "100/100 [==============================] - 17s 171ms/step - loss: 0.4853 - acc: 0.7635 - val_loss: 0.5042 - val_acc: 0.7620\n",
            "Epoch 44/100\n",
            "100/100 [==============================] - 17s 170ms/step - loss: 0.4795 - acc: 0.7720 - val_loss: 0.6161 - val_acc: 0.7150\n",
            "Epoch 45/100\n",
            "100/100 [==============================] - 17s 169ms/step - loss: 0.4698 - acc: 0.7725 - val_loss: 0.5029 - val_acc: 0.7600\n",
            "Epoch 46/100\n",
            "100/100 [==============================] - 17s 171ms/step - loss: 0.4692 - acc: 0.7800 - val_loss: 0.5144 - val_acc: 0.7570\n",
            "Epoch 47/100\n",
            "100/100 [==============================] - 17s 171ms/step - loss: 0.4785 - acc: 0.7705 - val_loss: 0.5111 - val_acc: 0.7540\n",
            "Epoch 48/100\n",
            "100/100 [==============================] - 17s 170ms/step - loss: 0.4673 - acc: 0.7740 - val_loss: 0.6680 - val_acc: 0.7140\n",
            "Epoch 49/100\n",
            "100/100 [==============================] - 17s 169ms/step - loss: 0.4742 - acc: 0.7760 - val_loss: 0.5463 - val_acc: 0.7370\n",
            "Epoch 50/100\n",
            "100/100 [==============================] - 17s 169ms/step - loss: 0.4673 - acc: 0.7795 - val_loss: 0.4881 - val_acc: 0.7790\n",
            "Epoch 51/100\n",
            "100/100 [==============================] - 17s 169ms/step - loss: 0.4684 - acc: 0.7870 - val_loss: 0.4820 - val_acc: 0.7740\n",
            "Epoch 52/100\n",
            "100/100 [==============================] - 17s 170ms/step - loss: 0.4685 - acc: 0.7795 - val_loss: 0.4762 - val_acc: 0.7810\n",
            "Epoch 53/100\n",
            "100/100 [==============================] - 17s 170ms/step - loss: 0.4580 - acc: 0.7860 - val_loss: 0.5267 - val_acc: 0.7560\n",
            "Epoch 54/100\n",
            "100/100 [==============================] - 17s 169ms/step - loss: 0.4586 - acc: 0.7885 - val_loss: 0.5059 - val_acc: 0.7600\n",
            "Epoch 55/100\n",
            "100/100 [==============================] - 17s 171ms/step - loss: 0.4459 - acc: 0.7905 - val_loss: 0.5036 - val_acc: 0.7560\n",
            "Epoch 56/100\n",
            "100/100 [==============================] - 17s 169ms/step - loss: 0.4647 - acc: 0.7775 - val_loss: 0.4807 - val_acc: 0.7820\n",
            "Epoch 57/100\n",
            "100/100 [==============================] - 17s 172ms/step - loss: 0.4527 - acc: 0.7850 - val_loss: 0.5076 - val_acc: 0.7460\n",
            "Epoch 58/100\n",
            "100/100 [==============================] - 17s 170ms/step - loss: 0.4570 - acc: 0.7905 - val_loss: 0.4719 - val_acc: 0.7690\n",
            "Epoch 59/100\n",
            "100/100 [==============================] - 17s 170ms/step - loss: 0.4391 - acc: 0.7970 - val_loss: 0.4818 - val_acc: 0.7690\n",
            "Epoch 60/100\n",
            "100/100 [==============================] - 17s 171ms/step - loss: 0.4451 - acc: 0.8020 - val_loss: 0.4730 - val_acc: 0.7840\n",
            "Epoch 61/100\n",
            "100/100 [==============================] - 17s 170ms/step - loss: 0.4565 - acc: 0.7890 - val_loss: 0.4802 - val_acc: 0.7680\n",
            "Epoch 62/100\n",
            "100/100 [==============================] - 17s 171ms/step - loss: 0.4394 - acc: 0.7935 - val_loss: 0.5016 - val_acc: 0.7810\n",
            "Epoch 63/100\n",
            "100/100 [==============================] - 17s 169ms/step - loss: 0.4597 - acc: 0.7825 - val_loss: 0.5002 - val_acc: 0.7580\n",
            "Epoch 64/100\n",
            "100/100 [==============================] - 17s 171ms/step - loss: 0.4279 - acc: 0.7945 - val_loss: 0.5073 - val_acc: 0.7650\n",
            "Epoch 65/100\n",
            "100/100 [==============================] - 17s 170ms/step - loss: 0.4359 - acc: 0.7920 - val_loss: 0.4263 - val_acc: 0.7890\n",
            "Epoch 66/100\n",
            "100/100 [==============================] - 17s 170ms/step - loss: 0.4368 - acc: 0.8010 - val_loss: 0.5355 - val_acc: 0.7570\n",
            "Epoch 67/100\n",
            "100/100 [==============================] - 17s 171ms/step - loss: 0.4303 - acc: 0.8045 - val_loss: 0.5022 - val_acc: 0.7640\n",
            "Epoch 68/100\n",
            "100/100 [==============================] - 17s 169ms/step - loss: 0.4362 - acc: 0.8075 - val_loss: 0.4255 - val_acc: 0.8000\n",
            "Epoch 69/100\n",
            "100/100 [==============================] - 17s 170ms/step - loss: 0.4157 - acc: 0.8050 - val_loss: 0.5082 - val_acc: 0.7820\n",
            "Epoch 70/100\n",
            "100/100 [==============================] - 17s 169ms/step - loss: 0.4143 - acc: 0.8195 - val_loss: 0.4847 - val_acc: 0.7780\n",
            "Epoch 71/100\n",
            "100/100 [==============================] - 17s 170ms/step - loss: 0.4195 - acc: 0.8045 - val_loss: 0.4676 - val_acc: 0.7880\n",
            "Epoch 72/100\n",
            "100/100 [==============================] - 17s 170ms/step - loss: 0.4155 - acc: 0.8035 - val_loss: 0.5995 - val_acc: 0.7370\n",
            "Epoch 73/100\n",
            "100/100 [==============================] - 17s 173ms/step - loss: 0.4077 - acc: 0.8150 - val_loss: 0.4879 - val_acc: 0.7770\n",
            "Epoch 74/100\n",
            "100/100 [==============================] - 17s 169ms/step - loss: 0.4257 - acc: 0.8080 - val_loss: 0.4541 - val_acc: 0.7770\n",
            "Epoch 75/100\n",
            "100/100 [==============================] - 17s 170ms/step - loss: 0.4102 - acc: 0.8090 - val_loss: 0.4539 - val_acc: 0.7860\n",
            "Epoch 76/100\n",
            "100/100 [==============================] - 17s 171ms/step - loss: 0.4129 - acc: 0.8160 - val_loss: 0.4361 - val_acc: 0.7970\n",
            "Epoch 77/100\n",
            "100/100 [==============================] - 17s 169ms/step - loss: 0.4009 - acc: 0.8240 - val_loss: 0.4708 - val_acc: 0.7890\n",
            "Epoch 78/100\n",
            "100/100 [==============================] - 17s 171ms/step - loss: 0.3941 - acc: 0.8205 - val_loss: 0.4348 - val_acc: 0.7890\n",
            "Epoch 79/100\n",
            "100/100 [==============================] - 17s 170ms/step - loss: 0.3950 - acc: 0.8245 - val_loss: 0.4739 - val_acc: 0.7840\n",
            "Epoch 80/100\n",
            "100/100 [==============================] - 17s 170ms/step - loss: 0.3955 - acc: 0.8160 - val_loss: 0.4381 - val_acc: 0.8020\n",
            "Epoch 81/100\n",
            "100/100 [==============================] - 17s 171ms/step - loss: 0.4162 - acc: 0.8105 - val_loss: 0.4568 - val_acc: 0.7830\n",
            "Epoch 82/100\n",
            "100/100 [==============================] - 17s 170ms/step - loss: 0.4102 - acc: 0.8105 - val_loss: 0.5029 - val_acc: 0.7750\n",
            "Epoch 83/100\n",
            "100/100 [==============================] - 17s 169ms/step - loss: 0.4099 - acc: 0.8170 - val_loss: 0.4739 - val_acc: 0.7830\n",
            "Epoch 84/100\n",
            "100/100 [==============================] - 17s 170ms/step - loss: 0.4063 - acc: 0.8115 - val_loss: 0.4556 - val_acc: 0.7960\n",
            "Epoch 85/100\n",
            "100/100 [==============================] - 17s 169ms/step - loss: 0.3919 - acc: 0.8245 - val_loss: 0.4833 - val_acc: 0.7920\n",
            "Epoch 86/100\n",
            "100/100 [==============================] - 17s 170ms/step - loss: 0.4025 - acc: 0.8190 - val_loss: 0.4459 - val_acc: 0.8010\n",
            "Epoch 87/100\n",
            "100/100 [==============================] - 17s 170ms/step - loss: 0.4084 - acc: 0.8150 - val_loss: 0.4547 - val_acc: 0.7770\n",
            "Epoch 88/100\n",
            "100/100 [==============================] - 17s 169ms/step - loss: 0.3823 - acc: 0.8285 - val_loss: 0.4400 - val_acc: 0.8010\n",
            "Epoch 89/100\n",
            "100/100 [==============================] - 17s 169ms/step - loss: 0.3882 - acc: 0.8215 - val_loss: 0.4746 - val_acc: 0.7950\n",
            "Epoch 90/100\n",
            "100/100 [==============================] - 17s 170ms/step - loss: 0.3885 - acc: 0.8200 - val_loss: 0.5308 - val_acc: 0.7870\n",
            "Epoch 91/100\n",
            "100/100 [==============================] - 17s 172ms/step - loss: 0.3842 - acc: 0.8255 - val_loss: 0.5686 - val_acc: 0.7660\n",
            "Epoch 92/100\n",
            "100/100 [==============================] - 17s 170ms/step - loss: 0.3768 - acc: 0.8365 - val_loss: 0.4543 - val_acc: 0.7960\n",
            "Epoch 93/100\n",
            "100/100 [==============================] - 17s 170ms/step - loss: 0.3671 - acc: 0.8315 - val_loss: 0.7030 - val_acc: 0.7260\n",
            "Epoch 94/100\n",
            "100/100 [==============================] - 17s 169ms/step - loss: 0.3853 - acc: 0.8255 - val_loss: 0.4007 - val_acc: 0.8220\n",
            "Epoch 95/100\n",
            "100/100 [==============================] - 17s 171ms/step - loss: 0.3640 - acc: 0.8390 - val_loss: 0.4521 - val_acc: 0.8150\n",
            "Epoch 96/100\n",
            "100/100 [==============================] - 17s 170ms/step - loss: 0.3856 - acc: 0.8280 - val_loss: 0.4619 - val_acc: 0.8040\n",
            "Epoch 97/100\n",
            "100/100 [==============================] - 17s 169ms/step - loss: 0.3844 - acc: 0.8330 - val_loss: 0.4422 - val_acc: 0.8040\n",
            "Epoch 98/100\n",
            "100/100 [==============================] - 17s 169ms/step - loss: 0.3815 - acc: 0.8310 - val_loss: 0.4783 - val_acc: 0.8070\n",
            "Epoch 99/100\n",
            "100/100 [==============================] - 17s 170ms/step - loss: 0.3722 - acc: 0.8325 - val_loss: 0.4325 - val_acc: 0.8040\n",
            "Epoch 100/100\n",
            "100/100 [==============================] - 17s 170ms/step - loss: 0.3782 - acc: 0.8305 - val_loss: 0.5062 - val_acc: 0.7910\n"
          ],
          "name": "stdout"
        }
      ]
    },
    {
      "cell_type": "code",
      "metadata": {
        "id": "bnyRnwopT5aW",
        "colab_type": "code",
        "outputId": "bd08628e-36c1-4729-a0e6-c7e9dde8ac3a",
        "colab": {
          "base_uri": "https://localhost:8080/",
          "height": 545
        }
      },
      "source": [
        "import matplotlib.pyplot as plt\n",
        "acc = history.history['acc']\n",
        "val_acc = history.history['val_acc']\n",
        "loss = history.history['loss']\n",
        "val_loss = history.history['val_loss']\n",
        "\n",
        "epochs = range(len(acc))\n",
        "\n",
        "plt.plot(epochs, acc, 'bo', label='Training accuracy')\n",
        "plt.plot(epochs, val_acc, 'b', label='Validation accuracy')\n",
        "plt.title('Training and validation accuracy')\n",
        "\n",
        "plt.figure()\n",
        "\n",
        "plt.plot(epochs, loss, 'bo', label='Training Loss')\n",
        "plt.plot(epochs, val_loss, 'b', label='Validation Loss')\n",
        "plt.title('Training and validation loss')\n",
        "plt.legend()\n",
        "\n",
        "plt.show()"
      ],
      "execution_count": 0,
      "outputs": [
        {
          "output_type": "display_data",
          "data": {
            "image/png": "[encoded data removed]",
            "text/plain": [
              "<Figure size 432x288 with 1 Axes>"
            ]
          },
          "metadata": {
            "tags": [],
            "needs_background": "light"
          }
        },
        {
          "output_type": "display_data",
          "data": {
            "image/png": "[encoded data removed]",
            "text/plain": [
              "<Figure size 432x288 with 1 Axes>"
            ]
          },
          "metadata": {
            "tags": [],
            "needs_background": "light"
          }
        }
      ]
    },
    {
      "cell_type": "code",
      "metadata": {
        "id": "rdE5x86cGCc2",
        "colab_type": "code",
        "outputId": "f55a351a-c365-4784-fd33-282adb4eb119",
        "colab": {
          "resources": {
            "http://localhost:8080/nbextensions/google.colab/files.js": {
              "data": "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",
              "ok": true,
              "headers": [
                [
                  "content-type",
                  "application/javascript"
                ]
              ],
              "status": 200,
              "status_text": ""
            }
          },
          "base_uri": "https://localhost:8080/",
          "height": 176
        }
      },
      "source": [
        "import numpy as np\n",
        "from google.colab import files\n",
        "from keras.preprocessing import image\n",
        " \n",
        "uploaded = files.upload()\n",
        " \n",
        "for fn in uploaded.keys():\n",
        "  path = '/content/' + fn\n",
        "  img = image.load_img(path, target_size=(150, 150))\n",
        "  x = image.img_to_array(img)\n",
        "  x = np.expand_dims(x, axis=0)\n",
        " \n",
        "  images = np.vstack([x])\n",
        "  classes = model.predict(images, batch_size=10)\n",
        "  print(classes[0])\n",
        "  if classes[0]>0.5:\n",
        "    print(fn + \" is a cat\")\n",
        "  else:\n",
        "    print(fn + \" is a dog\")"
      ],
      "execution_count": 0,
      "outputs": [
        {
          "output_type": "display_data",
          "data": {
            "text/html": [
              "\n",
              "     <input type=\"file\" id=\"files-9efd8c96-6b17-4874-9d92-93513a92ff1b\" name=\"files[]\" multiple disabled />\n",
              "     <output id=\"result-9efd8c96-6b17-4874-9d92-93513a92ff1b\">\n",
              "      Upload widget is only available when the cell has been executed in the\n",
              "      current browser session. Please rerun this cell to enable.\n",
              "      </output>\n",
              "      <script src=\"/nbextensions/google.colab/files.js\"></script> "
            ],
            "text/plain": [
              "<IPython.core.display.HTML object>"
            ]
          },
          "metadata": {
            "tags": []
          }
        },
        {
          "output_type": "stream",
          "text": [
            "Saving cat2.jpg to cat2 (1).jpg\n",
            "Saving cat4.jpg to cat4 (1).jpg\n",
            "[1.]\n",
            "cat2.jpg is a cat\n",
            "[1.]\n",
            "cat4.jpg is a cat\n"
          ],
          "name": "stdout"
        }
      ]
    }
  ]
}